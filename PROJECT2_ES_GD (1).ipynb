{
 "cells": [
  {
   "cell_type": "markdown",
   "metadata": {},
   "source": [
    "PROJECT_2 \n",
    "Студент Солодухина Е. П.\n",
    "\n",
    "ЗАДАЧИ (ФОРМАЛИЗОВАННЫЕ):\n",
    "\n",
    "1. Проверить, отличается ли время прохождения различных этапов для пользователей, которые прошли обучение от пользователей, не начинавших обучение. Насколько обучение сокращает время прохождения этапов?\n",
    "\n",
    "2. Посмотреть, существует ли зависимость между вероятностью оплаты вопросов и количеством обучений, которые начинал или завершал пользователь. Нужно доказать, что успешное обучение само по себе влияет на оплату, и без разницы, каким этапом оно шло.\n",
    "\n",
    "3. Дополнительная задача. Как часто пользователи начинают обучение после того, как они выбрали уровень сложности? Это позволит нам понять, насколько прозрачен процесс взаимодействия с игрой: если пользователи после выбора уровня сложности обращаются к обучению, значит, работа с приложением непонятна.\n",
    "\n",
    "*проверка производится на основе данных пользователей, которые зарегистрировались в 2018 году (с 1 января по 31 декабря 2018 года включительно)."
   ]
  },
  {
   "cell_type": "markdown",
   "metadata": {},
   "source": [
    "    Подключаем библиотеки, получаем данные из файлов."
   ]
  },
  {
   "cell_type": "code",
   "execution_count": 1,
   "metadata": {},
   "outputs": [],
   "source": [
    "import pandas as pd\n",
    "import warnings\n",
    "warnings.filterwarnings('ignore')\n",
    "import matplotlib.pyplot as plt\n",
    "import seaborn as sns\n",
    "%matplotlib inline\n",
    "import plotly.graph_objects as go\n",
    "from plotly.subplots import make_subplots"
   ]
  },
  {
   "cell_type": "code",
   "execution_count": 2,
   "metadata": {},
   "outputs": [],
   "source": [
    "events_df=pd.read_csv('7_4_Events.csv')\n",
    "purchase_df=pd.read_csv('purchase.csv')"
   ]
  },
  {
   "cell_type": "code",
   "execution_count": 3,
   "metadata": {
    "scrolled": true
   },
   "outputs": [
    {
     "name": "stdout",
     "output_type": "stream",
     "text": [
      "<class 'pandas.core.frame.DataFrame'>\n",
      "RangeIndex: 252334 entries, 0 to 252333\n",
      "Data columns (total 6 columns):\n",
      " #   Column          Non-Null Count   Dtype  \n",
      "---  ------          --------------   -----  \n",
      " 0   id              252334 non-null  int64  \n",
      " 1   event_type      252334 non-null  object \n",
      " 2   selected_level  31086 non-null   object \n",
      " 3   start_time      252334 non-null  object \n",
      " 4   tutorial_id     125103 non-null  float64\n",
      " 5   user_id         252334 non-null  int64  \n",
      "dtypes: float64(1), int64(2), object(3)\n",
      "memory usage: 11.6+ MB\n"
     ]
    }
   ],
   "source": [
    "events_df.info()"
   ]
  },
  {
   "cell_type": "code",
   "execution_count": 4,
   "metadata": {
    "scrolled": false
   },
   "outputs": [
    {
     "name": "stdout",
     "output_type": "stream",
     "text": [
      "<class 'pandas.core.frame.DataFrame'>\n",
      "RangeIndex: 5956 entries, 0 to 5955\n",
      "Data columns (total 4 columns):\n",
      " #   Column          Non-Null Count  Dtype \n",
      "---  ------          --------------  ----- \n",
      " 0   id              5956 non-null   int64 \n",
      " 1   user_id         5956 non-null   int64 \n",
      " 2   event_datetime  5956 non-null   object\n",
      " 3   amount          5956 non-null   int64 \n",
      "dtypes: int64(3), object(1)\n",
      "memory usage: 186.2+ KB\n"
     ]
    }
   ],
   "source": [
    "purchase_df.info()\n"
   ]
  },
  {
   "cell_type": "markdown",
   "metadata": {},
   "source": [
    "    Произведём обзор данных и преобразование данных."
   ]
  },
  {
   "cell_type": "code",
   "execution_count": 5,
   "metadata": {},
   "outputs": [],
   "source": [
    "# Определяем условие вхождения пользователей в целевую группу\n",
    "условие = (events_df.start_time>='2018-01-01') & (events_df.start_time<'2019-01-01') & (events_df.event_type=='registration')\n",
    "# список пользователей, зарег. в 2018\n",
    "registered = set(events_df[условие]['user_id'])\n",
    "# Оставляем в датафреймах только записи пользователей, входящих в целевую группу\n",
    "events_df = events_df[events_df['user_id'].isin(registered)]\n",
    "purchase_df = purchase_df[purchase_df['user_id'].isin(registered)]\n",
    "# Преобразовывыем данные строкового типа в данные типа datetime\n",
    "events_df['start_time'] = pd.to_datetime(events_df['start_time'], format='%Y-%m-%dT%H:%M:%S')\n",
    "purchase_df['event_datetime'] = pd.to_datetime(purchase_df['event_datetime'], format='%Y-%m-%dT%H:%M:%S')"
   ]
  },
  {
   "cell_type": "code",
   "execution_count": 6,
   "metadata": {},
   "outputs": [
    {
     "name": "stdout",
     "output_type": "stream",
     "text": [
      "<class 'pandas.core.frame.DataFrame'>\n",
      "Int64Index: 1600 entries, 1171 to 2778\n",
      "Data columns (total 5 columns):\n",
      " #   Column          Non-Null Count  Dtype         \n",
      "---  ------          --------------  -----         \n",
      " 0   id              1600 non-null   int64         \n",
      " 1   user_id         1600 non-null   int64         \n",
      " 2   event_datetime  1600 non-null   datetime64[ns]\n",
      " 3   amount          1600 non-null   int64         \n",
      " 4   event_type      1600 non-null   object        \n",
      "dtypes: datetime64[ns](1), int64(3), object(1)\n",
      "memory usage: 75.0+ KB\n"
     ]
    },
    {
     "data": {
      "text/html": [
       "<div>\n",
       "<style scoped>\n",
       "    .dataframe tbody tr th:only-of-type {\n",
       "        vertical-align: middle;\n",
       "    }\n",
       "\n",
       "    .dataframe tbody tr th {\n",
       "        vertical-align: top;\n",
       "    }\n",
       "\n",
       "    .dataframe thead th {\n",
       "        text-align: right;\n",
       "    }\n",
       "</style>\n",
       "<table border=\"1\" class=\"dataframe\">\n",
       "  <thead>\n",
       "    <tr style=\"text-align: right;\">\n",
       "      <th></th>\n",
       "      <th>id</th>\n",
       "      <th>user_id</th>\n",
       "      <th>event_datetime</th>\n",
       "      <th>amount</th>\n",
       "      <th>event_type</th>\n",
       "    </tr>\n",
       "  </thead>\n",
       "  <tbody>\n",
       "    <tr>\n",
       "      <th>1171</th>\n",
       "      <td>16845</td>\n",
       "      <td>27845</td>\n",
       "      <td>2018-01-03 18:53:43</td>\n",
       "      <td>100</td>\n",
       "      <td>purchase</td>\n",
       "    </tr>\n",
       "    <tr>\n",
       "      <th>1172</th>\n",
       "      <td>16846</td>\n",
       "      <td>27865</td>\n",
       "      <td>2018-01-04 14:46:10</td>\n",
       "      <td>250</td>\n",
       "      <td>purchase</td>\n",
       "    </tr>\n",
       "    <tr>\n",
       "      <th>1174</th>\n",
       "      <td>16848</td>\n",
       "      <td>27911</td>\n",
       "      <td>2018-01-07 08:19:12</td>\n",
       "      <td>50</td>\n",
       "      <td>purchase</td>\n",
       "    </tr>\n",
       "    <tr>\n",
       "      <th>1175</th>\n",
       "      <td>16849</td>\n",
       "      <td>27910</td>\n",
       "      <td>2018-01-07 12:11:34</td>\n",
       "      <td>100</td>\n",
       "      <td>purchase</td>\n",
       "    </tr>\n",
       "    <tr>\n",
       "      <th>1176</th>\n",
       "      <td>16850</td>\n",
       "      <td>27940</td>\n",
       "      <td>2018-01-07 13:16:41</td>\n",
       "      <td>200</td>\n",
       "      <td>purchase</td>\n",
       "    </tr>\n",
       "    <tr>\n",
       "      <th>...</th>\n",
       "      <td>...</td>\n",
       "      <td>...</td>\n",
       "      <td>...</td>\n",
       "      <td>...</td>\n",
       "      <td>...</td>\n",
       "    </tr>\n",
       "    <tr>\n",
       "      <th>2767</th>\n",
       "      <td>18441</td>\n",
       "      <td>47498</td>\n",
       "      <td>2019-01-02 03:48:19</td>\n",
       "      <td>100</td>\n",
       "      <td>purchase</td>\n",
       "    </tr>\n",
       "    <tr>\n",
       "      <th>2768</th>\n",
       "      <td>18442</td>\n",
       "      <td>47647</td>\n",
       "      <td>2019-01-02 23:26:26</td>\n",
       "      <td>150</td>\n",
       "      <td>purchase</td>\n",
       "    </tr>\n",
       "    <tr>\n",
       "      <th>2769</th>\n",
       "      <td>18443</td>\n",
       "      <td>47554</td>\n",
       "      <td>2019-01-03 00:36:36</td>\n",
       "      <td>50</td>\n",
       "      <td>purchase</td>\n",
       "    </tr>\n",
       "    <tr>\n",
       "      <th>2774</th>\n",
       "      <td>18448</td>\n",
       "      <td>47742</td>\n",
       "      <td>2019-01-04 12:51:41</td>\n",
       "      <td>50</td>\n",
       "      <td>purchase</td>\n",
       "    </tr>\n",
       "    <tr>\n",
       "      <th>2778</th>\n",
       "      <td>18452</td>\n",
       "      <td>47732</td>\n",
       "      <td>2019-01-06 07:14:25</td>\n",
       "      <td>150</td>\n",
       "      <td>purchase</td>\n",
       "    </tr>\n",
       "  </tbody>\n",
       "</table>\n",
       "<p>1600 rows × 5 columns</p>\n",
       "</div>"
      ],
      "text/plain": [
       "         id  user_id      event_datetime  amount event_type\n",
       "1171  16845    27845 2018-01-03 18:53:43     100   purchase\n",
       "1172  16846    27865 2018-01-04 14:46:10     250   purchase\n",
       "1174  16848    27911 2018-01-07 08:19:12      50   purchase\n",
       "1175  16849    27910 2018-01-07 12:11:34     100   purchase\n",
       "1176  16850    27940 2018-01-07 13:16:41     200   purchase\n",
       "...     ...      ...                 ...     ...        ...\n",
       "2767  18441    47498 2019-01-02 03:48:19     100   purchase\n",
       "2768  18442    47647 2019-01-02 23:26:26     150   purchase\n",
       "2769  18443    47554 2019-01-03 00:36:36      50   purchase\n",
       "2774  18448    47742 2019-01-04 12:51:41      50   purchase\n",
       "2778  18452    47732 2019-01-06 07:14:25     150   purchase\n",
       "\n",
       "[1600 rows x 5 columns]"
      ]
     },
     "execution_count": 6,
     "metadata": {},
     "output_type": "execute_result"
    }
   ],
   "source": [
    "# Добавляем в столбец датафрейм purchase_df столбца с описанием события\n",
    "purchase_df['event_type'] = 'purchase'\n",
    "purchase_df.info()\n",
    "purchase_df"
   ]
  },
  {
   "cell_type": "code",
   "execution_count": 7,
   "metadata": {},
   "outputs": [],
   "source": [
    "# Переименовываем столбцы\n",
    "\n",
    "events_df = events_df.rename(columns={'id':'event_id'})\n",
    "events_df = events_df.rename(columns={'start_time':'event_time'})\n",
    "purchase_df = purchase_df.rename(columns={'id':'purchase_id'})\n",
    "purchase_df = purchase_df.rename(columns={'event_datetime':'event_time'})"
   ]
  },
  {
   "cell_type": "code",
   "execution_count": 8,
   "metadata": {
    "scrolled": true
   },
   "outputs": [
    {
     "name": "stdout",
     "output_type": "stream",
     "text": [
      "Количество пустых значений в колонках total_events_df, (%)\n",
      "event_id           2.33\n",
      "event_type         0.00\n",
      "selected_level    87.83\n",
      "event_time         0.00\n",
      "tutorial_id       51.93\n",
      "user_id            0.00\n",
      "purchase_id       97.67\n",
      "amount            97.67\n",
      "dtype: float64\n",
      "<class 'pandas.core.frame.DataFrame'>\n",
      "Int64Index: 68559 entries, 0 to 68558\n",
      "Data columns (total 8 columns):\n",
      " #   Column          Non-Null Count  Dtype         \n",
      "---  ------          --------------  -----         \n",
      " 0   event_id        66959 non-null  float64       \n",
      " 1   event_type      68559 non-null  object        \n",
      " 2   selected_level  8342 non-null   object        \n",
      " 3   event_time      68559 non-null  datetime64[ns]\n",
      " 4   tutorial_id     32954 non-null  float64       \n",
      " 5   user_id         68559 non-null  int64         \n",
      " 6   purchase_id     1600 non-null   float64       \n",
      " 7   amount          1600 non-null   float64       \n",
      "dtypes: datetime64[ns](1), float64(4), int64(1), object(2)\n",
      "memory usage: 4.7+ MB\n"
     ]
    },
    {
     "data": {
      "text/html": [
       "<div>\n",
       "<style scoped>\n",
       "    .dataframe tbody tr th:only-of-type {\n",
       "        vertical-align: middle;\n",
       "    }\n",
       "\n",
       "    .dataframe tbody tr th {\n",
       "        vertical-align: top;\n",
       "    }\n",
       "\n",
       "    .dataframe thead th {\n",
       "        text-align: right;\n",
       "    }\n",
       "</style>\n",
       "<table border=\"1\" class=\"dataframe\">\n",
       "  <thead>\n",
       "    <tr style=\"text-align: right;\">\n",
       "      <th></th>\n",
       "      <th>event_id</th>\n",
       "      <th>event_type</th>\n",
       "      <th>selected_level</th>\n",
       "      <th>event_time</th>\n",
       "      <th>tutorial_id</th>\n",
       "      <th>user_id</th>\n",
       "      <th>purchase_id</th>\n",
       "      <th>amount</th>\n",
       "    </tr>\n",
       "  </thead>\n",
       "  <tbody>\n",
       "    <tr>\n",
       "      <th>0</th>\n",
       "      <td>80308.0</td>\n",
       "      <td>registration</td>\n",
       "      <td>NaN</td>\n",
       "      <td>2018-01-01 03:48:40</td>\n",
       "      <td>NaN</td>\n",
       "      <td>27832</td>\n",
       "      <td>NaN</td>\n",
       "      <td>NaN</td>\n",
       "    </tr>\n",
       "    <tr>\n",
       "      <th>1</th>\n",
       "      <td>80309.0</td>\n",
       "      <td>registration</td>\n",
       "      <td>NaN</td>\n",
       "      <td>2018-01-01 04:07:25</td>\n",
       "      <td>NaN</td>\n",
       "      <td>27833</td>\n",
       "      <td>NaN</td>\n",
       "      <td>NaN</td>\n",
       "    </tr>\n",
       "    <tr>\n",
       "      <th>2</th>\n",
       "      <td>80310.0</td>\n",
       "      <td>registration</td>\n",
       "      <td>NaN</td>\n",
       "      <td>2018-01-01 08:35:10</td>\n",
       "      <td>NaN</td>\n",
       "      <td>27834</td>\n",
       "      <td>NaN</td>\n",
       "      <td>NaN</td>\n",
       "    </tr>\n",
       "    <tr>\n",
       "      <th>3</th>\n",
       "      <td>80311.0</td>\n",
       "      <td>registration</td>\n",
       "      <td>NaN</td>\n",
       "      <td>2018-01-01 11:54:47</td>\n",
       "      <td>NaN</td>\n",
       "      <td>27835</td>\n",
       "      <td>NaN</td>\n",
       "      <td>NaN</td>\n",
       "    </tr>\n",
       "    <tr>\n",
       "      <th>4</th>\n",
       "      <td>80312.0</td>\n",
       "      <td>registration</td>\n",
       "      <td>NaN</td>\n",
       "      <td>2018-01-01 13:28:07</td>\n",
       "      <td>NaN</td>\n",
       "      <td>27836</td>\n",
       "      <td>NaN</td>\n",
       "      <td>NaN</td>\n",
       "    </tr>\n",
       "  </tbody>\n",
       "</table>\n",
       "</div>"
      ],
      "text/plain": [
       "   event_id    event_type selected_level          event_time  tutorial_id  \\\n",
       "0   80308.0  registration            NaN 2018-01-01 03:48:40          NaN   \n",
       "1   80309.0  registration            NaN 2018-01-01 04:07:25          NaN   \n",
       "2   80310.0  registration            NaN 2018-01-01 08:35:10          NaN   \n",
       "3   80311.0  registration            NaN 2018-01-01 11:54:47          NaN   \n",
       "4   80312.0  registration            NaN 2018-01-01 13:28:07          NaN   \n",
       "\n",
       "   user_id  purchase_id  amount  \n",
       "0    27832          NaN     NaN  \n",
       "1    27833          NaN     NaN  \n",
       "2    27834          NaN     NaN  \n",
       "3    27835          NaN     NaN  \n",
       "4    27836          NaN     NaN  "
      ]
     },
     "execution_count": 8,
     "metadata": {},
     "output_type": "execute_result"
    }
   ],
   "source": [
    "# Объединим датафреймы и запишем объединенный датафрейм в переменную total_events_df\n",
    "\n",
    "total_events_df = pd.concat([events_df,purchase_df],sort=False).reset_index(drop=True).sort_values('event_time')\n",
    "\n",
    "print(\"Количество пустых значений в колонках total_events_df, (%)\")\n",
    "print(round((total_events_df.isnull().sum()*100/total_events_df.shape[0]), 2))\n",
    "total_events_df.info()\n",
    "total_events_df.head()"
   ]
  },
  {
   "cell_type": "markdown",
   "metadata": {},
   "source": [
    "Задача № 1\n",
    "Проверить, отличается ли время прохождения различных этапов для пользователей, которые прошли обучение от пользователей, не начинавших обучение. Насколько обучение сокращает время прохождения этапов?"
   ]
  },
  {
   "cell_type": "markdown",
   "metadata": {},
   "source": [
    "    Создадим группы пользователей в зависимости от типа события"
   ]
  },
  {
   "cell_type": "code",
   "execution_count": 9,
   "metadata": {},
   "outputs": [
    {
     "data": {
      "text/plain": [
       "array(['registration', 'tutorial_start', 'tutorial_finish',\n",
       "       'level_choice', 'pack_choice', 'purchase'], dtype=object)"
      ]
     },
     "execution_count": 9,
     "metadata": {},
     "output_type": "execute_result"
    }
   ],
   "source": [
    "# Определим типы событий, которые содержатся в наших данных\n",
    "total_events_df['event_type'].unique()\n"
   ]
  },
  {
   "cell_type": "code",
   "execution_count": 10,
   "metadata": {},
   "outputs": [
    {
     "data": {
      "text/plain": [
       "registration       19926\n",
       "tutorial_start     18050\n",
       "tutorial_finish    14904\n",
       "level_choice        8342\n",
       "pack_choice         5737\n",
       "purchase            1600\n",
       "Name: event_type, dtype: int64"
      ]
     },
     "execution_count": 10,
     "metadata": {},
     "output_type": "execute_result"
    }
   ],
   "source": [
    "total_events_df['event_type'].value_counts()\n"
   ]
  },
  {
   "cell_type": "code",
   "execution_count": 11,
   "metadata": {},
   "outputs": [
    {
     "name": "stdout",
     "output_type": "stream",
     "text": [
      "Количество зарегистрировавшихся пользователей: 19926\n",
      "Количество пользователей, которые начали обучение: 11858\n",
      "Количество пользователей, которые закончили обучение: 10250\n",
      "Количество пользователей, которые не начинали обучение: 8068\n",
      "Количество пользователей, которые начали, но не закончили обучение: 1608\n"
     ]
    },
    {
     "data": {
      "text/plain": [
       "True"
      ]
     },
     "execution_count": 11,
     "metadata": {},
     "output_type": "execute_result"
    }
   ],
   "source": [
    "# Выделим группы пользователей\n",
    "\n",
    "registered_users = set(total_events_df[total_events_df['event_type']=='registration']['user_id'])\n",
    "tutorial_start_users = set(total_events_df[total_events_df['event_type']=='tutorial_start']['user_id'])\n",
    "finished_tutorial_users = set(total_events_df[total_events_df['event_type'] == 'tutorial_finish']['user_id'])\n",
    "not_started_tutorial = registered_users-tutorial_start_users\n",
    "not_finished_but_started_tutorial=tutorial_start_users.difference(set(finished_tutorial_users))\n",
    "\n",
    "print('Количество зарегистрировавшихся пользователей:', len(registered_users))\n",
    "print('Количество пользователей, которые начали обучение:', len(tutorial_start_users))\n",
    "print('Количество пользователей, которые закончили обучение:', len(finished_tutorial_users))\n",
    "print('Количество пользователей, которые не начинали обучение:', len(not_started_tutorial))\n",
    "print('Количество пользователей, которые начали, но не закончили обучение:', len(not_finished_but_started_tutorial))\n",
    "\n",
    "# Проверим соответствие выделенных пользователей c общим количеством пользователей.\n",
    "len(not_finished_but_started_tutorial) + len(not_started_tutorial) + len(finished_tutorial_users) == len(registered_users)"
   ]
  },
  {
   "cell_type": "code",
   "execution_count": 12,
   "metadata": {},
   "outputs": [
    {
     "name": "stdout",
     "output_type": "stream",
     "text": [
      "Процент пользователей, начавших обучение (от общего числа зарегистрировавшихся): 59.51%\n",
      "Процент пользователей, закончивших обучение (от числа начавших обучение): 86.44%\n",
      "Процент пользователей, закончивших обучение (от общего числа зарегистрировавшихся): 51.44%\n"
     ]
    }
   ],
   "source": [
    "#Найдем соотношение начавших обучение и зарегистрировавшихся пользователей:\n",
    "percent_tutorial_start_users = len(tutorial_start_users) / len(registered_users)\n",
    "#Рассчитаем процент пользователей, завершивших обучение от числа начавших обучение,\n",
    "#а также от общего числа зарегистрировавшихся:\n",
    "tutorial_finish_start = len(finished_tutorial_users) / len(tutorial_start_users)\n",
    "tutorial_finish_reg= len(finished_tutorial_users) / len(registered_users)\n",
    "\n",
    "print ('Процент пользователей, начавших обучение (от общего числа зарегистрировавшихся): {:.2%}'.format(percent_tutorial_start_users))\n",
    "print ('Процент пользователей, закончивших обучение (от числа начавших обучение): {:.2%}'.format(tutorial_finish_start))\n",
    "print ('Процент пользователей, закончивших обучение (от общего числа зарегистрировавшихся): {:.2%}'.format(tutorial_finish_reg))\n"
   ]
  },
  {
   "cell_type": "markdown",
   "metadata": {},
   "source": [
    "Процент пользователей, которые начали обучение, составляет чуть больше половины от пользователей, прошедших регистрацию.\n",
    "Процент пользователей, которые закончили обучение, составляет практически половину от пользователей, прошедших регистрацию.\n",
    "Среди начавших обучение 86% пользователей закончили обучение."
   ]
  },
  {
   "cell_type": "markdown",
   "metadata": {},
   "source": [
    "    Создадим общую сводную таблицу и рассмотрим три группы пользователей:\n",
    "        * которые закончили обучение\n",
    "        * не начинали обучение\n",
    "        * которые начали, но не закончили обучение\n",
    "    и вычислим разницу во времени между различными этапами (registration', 'level_choice', 'pack_choice', 'purchase') для этих пользователей."
   ]
  },
  {
   "cell_type": "code",
   "execution_count": 13,
   "metadata": {},
   "outputs": [
    {
     "data": {
      "text/html": [
       "<div>\n",
       "<style scoped>\n",
       "    .dataframe tbody tr th:only-of-type {\n",
       "        vertical-align: middle;\n",
       "    }\n",
       "\n",
       "    .dataframe tbody tr th {\n",
       "        vertical-align: top;\n",
       "    }\n",
       "\n",
       "    .dataframe thead th {\n",
       "        text-align: right;\n",
       "    }\n",
       "</style>\n",
       "<table border=\"1\" class=\"dataframe\">\n",
       "  <thead>\n",
       "    <tr style=\"text-align: right;\">\n",
       "      <th></th>\n",
       "      <th>event_time_level_choice</th>\n",
       "      <th>event_time_pack_choice</th>\n",
       "      <th>event_time_purchase</th>\n",
       "      <th>event_time_registration</th>\n",
       "      <th>event_time_tutorial_finish</th>\n",
       "      <th>event_time_tutorial_start</th>\n",
       "      <th>Tutorial</th>\n",
       "    </tr>\n",
       "    <tr>\n",
       "      <th>user_id</th>\n",
       "      <th></th>\n",
       "      <th></th>\n",
       "      <th></th>\n",
       "      <th></th>\n",
       "      <th></th>\n",
       "      <th></th>\n",
       "      <th></th>\n",
       "    </tr>\n",
       "  </thead>\n",
       "  <tbody>\n",
       "    <tr>\n",
       "      <th>27832</th>\n",
       "      <td>NaT</td>\n",
       "      <td>NaT</td>\n",
       "      <td>NaT</td>\n",
       "      <td>2018-01-01 03:48:40</td>\n",
       "      <td>NaT</td>\n",
       "      <td>NaT</td>\n",
       "      <td>not_start</td>\n",
       "    </tr>\n",
       "    <tr>\n",
       "      <th>27833</th>\n",
       "      <td>NaT</td>\n",
       "      <td>NaT</td>\n",
       "      <td>NaT</td>\n",
       "      <td>2018-01-01 04:07:25</td>\n",
       "      <td>2018-01-01 17:50:08</td>\n",
       "      <td>2018-01-01 17:47:40</td>\n",
       "      <td>tutorial_finish</td>\n",
       "    </tr>\n",
       "    <tr>\n",
       "      <th>27834</th>\n",
       "      <td>NaT</td>\n",
       "      <td>NaT</td>\n",
       "      <td>NaT</td>\n",
       "      <td>2018-01-01 08:35:10</td>\n",
       "      <td>2018-01-01 19:48:01</td>\n",
       "      <td>2018-01-01 19:46:11</td>\n",
       "      <td>tutorial_finish</td>\n",
       "    </tr>\n",
       "    <tr>\n",
       "      <th>27835</th>\n",
       "      <td>2018-01-01 20:37:22</td>\n",
       "      <td>2018-01-01 20:38:43</td>\n",
       "      <td>NaT</td>\n",
       "      <td>2018-01-01 11:54:47</td>\n",
       "      <td>2018-01-01 15:06:15</td>\n",
       "      <td>2018-01-01 15:00:51</td>\n",
       "      <td>tutorial_finish</td>\n",
       "    </tr>\n",
       "    <tr>\n",
       "      <th>27836</th>\n",
       "      <td>NaT</td>\n",
       "      <td>NaT</td>\n",
       "      <td>NaT</td>\n",
       "      <td>2018-01-01 13:28:07</td>\n",
       "      <td>2018-01-01 15:42:58</td>\n",
       "      <td>2018-01-01 14:54:40</td>\n",
       "      <td>tutorial_finish</td>\n",
       "    </tr>\n",
       "  </tbody>\n",
       "</table>\n",
       "</div>"
      ],
      "text/plain": [
       "        event_time_level_choice event_time_pack_choice event_time_purchase  \\\n",
       "user_id                                                                      \n",
       "27832                       NaT                    NaT                 NaT   \n",
       "27833                       NaT                    NaT                 NaT   \n",
       "27834                       NaT                    NaT                 NaT   \n",
       "27835       2018-01-01 20:37:22    2018-01-01 20:38:43                 NaT   \n",
       "27836                       NaT                    NaT                 NaT   \n",
       "\n",
       "        event_time_registration event_time_tutorial_finish  \\\n",
       "user_id                                                      \n",
       "27832       2018-01-01 03:48:40                        NaT   \n",
       "27833       2018-01-01 04:07:25        2018-01-01 17:50:08   \n",
       "27834       2018-01-01 08:35:10        2018-01-01 19:48:01   \n",
       "27835       2018-01-01 11:54:47        2018-01-01 15:06:15   \n",
       "27836       2018-01-01 13:28:07        2018-01-01 15:42:58   \n",
       "\n",
       "        event_time_tutorial_start         Tutorial  \n",
       "user_id                                             \n",
       "27832                         NaT        not_start  \n",
       "27833         2018-01-01 17:47:40  tutorial_finish  \n",
       "27834         2018-01-01 19:46:11  tutorial_finish  \n",
       "27835         2018-01-01 15:00:51  tutorial_finish  \n",
       "27836         2018-01-01 14:54:40  tutorial_finish  "
      ]
     },
     "execution_count": 13,
     "metadata": {},
     "output_type": "execute_result"
    }
   ],
   "source": [
    "pivot_df=total_events_df.pivot_table(values=['event_time'],\n",
    "                                       index=['user_id'],\n",
    "                                       columns=['event_type'],\n",
    "                                       aggfunc='min')\n",
    "# Избавляемся от мульти-индекса в названии столбцов\n",
    "pivot_df.columns=list(map('_'.join,pivot_df))\n",
    "pivot_df.reset_index(drop=True)\n",
    "\n",
    "# Добавляем столбец со статусом пользователя (прошел обучение='Finished', не проходил='No',начал обучение='Started')\n",
    "pivot_df[\"Tutorial\"] = pivot_df.apply(lambda x: 'tutorial_finish' if not pd.isnull(x.event_time_tutorial_finish) else 'not_start' if pd.isnull(x.event_time_tutorial_start) \\\n",
    "    else 'only_started', axis=1)\n",
    "pivot_df.head()"
   ]
  },
  {
   "cell_type": "code",
   "execution_count": 14,
   "metadata": {},
   "outputs": [
    {
     "data": {
      "text/plain": [
       "tutorial_finish    10250\n",
       "not_start           8068\n",
       "only_started        1608\n",
       "Name: Tutorial, dtype: int64"
      ]
     },
     "execution_count": 14,
     "metadata": {},
     "output_type": "execute_result"
    }
   ],
   "source": [
    "pivot_df['Tutorial'].value_counts()"
   ]
  },
  {
   "cell_type": "code",
   "execution_count": 15,
   "metadata": {},
   "outputs": [],
   "source": [
    "#Добавляем столбцы с расчётом времени между событиями:\n",
    "#Время между этапом: регистрация - выбор уровня сложности\n",
    "pivot_df['timedelta_registr_level']=(pivot_df['event_time_level_choice']-pivot_df['event_time_registration']) / pd.Timedelta('1 hours')\n",
    "#Время между этапом: выбор пакета вопросов - выбор уровня сложности\n",
    "pivot_df['timedelta_level_questions']=(pivot_df['event_time_pack_choice']-pivot_df['event_time_level_choice']) / pd.Timedelta('1 minute')\n",
    "#Время между этапом: покупка - выбор пакета вопросов\n",
    "pivot_df['timedelta_questions_purchase']=(pivot_df['event_time_purchase']-pivot_df['event_time_pack_choice']) / pd.Timedelta('1 day')\n",
    "#Время между этапом: регистрация - покупка\n",
    "pivot_df['timedelta_registration_purchase']=(pivot_df['event_time_purchase']-pivot_df['event_time_registration']) / pd.Timedelta('1 day')"
   ]
  },
  {
   "cell_type": "code",
   "execution_count": 16,
   "metadata": {},
   "outputs": [
    {
     "data": {
      "text/html": [
       "<div>\n",
       "<style scoped>\n",
       "    .dataframe tbody tr th:only-of-type {\n",
       "        vertical-align: middle;\n",
       "    }\n",
       "\n",
       "    .dataframe tbody tr th {\n",
       "        vertical-align: top;\n",
       "    }\n",
       "\n",
       "    .dataframe thead th {\n",
       "        text-align: right;\n",
       "    }\n",
       "</style>\n",
       "<table border=\"1\" class=\"dataframe\">\n",
       "  <thead>\n",
       "    <tr style=\"text-align: right;\">\n",
       "      <th></th>\n",
       "      <th>timedelta_registr_level</th>\n",
       "      <th>timedelta_level_questions</th>\n",
       "      <th>timedelta_questions_purchase</th>\n",
       "      <th>timedelta_registration_purchase</th>\n",
       "    </tr>\n",
       "  </thead>\n",
       "  <tbody>\n",
       "    <tr>\n",
       "      <th>count</th>\n",
       "      <td>8342.000000</td>\n",
       "      <td>5737.000000</td>\n",
       "      <td>1600.000000</td>\n",
       "      <td>1600.000000</td>\n",
       "    </tr>\n",
       "    <tr>\n",
       "      <th>mean</th>\n",
       "      <td>7.171992</td>\n",
       "      <td>5.285474</td>\n",
       "      <td>3.740896</td>\n",
       "      <td>4.043016</td>\n",
       "    </tr>\n",
       "    <tr>\n",
       "      <th>std</th>\n",
       "      <td>4.564212</td>\n",
       "      <td>2.732052</td>\n",
       "      <td>2.192595</td>\n",
       "      <td>2.201338</td>\n",
       "    </tr>\n",
       "    <tr>\n",
       "      <th>min</th>\n",
       "      <td>0.137500</td>\n",
       "      <td>0.316667</td>\n",
       "      <td>0.031134</td>\n",
       "      <td>0.192338</td>\n",
       "    </tr>\n",
       "    <tr>\n",
       "      <th>25%</th>\n",
       "      <td>3.887917</td>\n",
       "      <td>3.083333</td>\n",
       "      <td>1.891820</td>\n",
       "      <td>2.185741</td>\n",
       "    </tr>\n",
       "    <tr>\n",
       "      <th>50%</th>\n",
       "      <td>6.057778</td>\n",
       "      <td>4.950000</td>\n",
       "      <td>3.535712</td>\n",
       "      <td>3.825619</td>\n",
       "    </tr>\n",
       "    <tr>\n",
       "      <th>75%</th>\n",
       "      <td>9.582917</td>\n",
       "      <td>7.133333</td>\n",
       "      <td>5.404326</td>\n",
       "      <td>5.700663</td>\n",
       "    </tr>\n",
       "    <tr>\n",
       "      <th>max</th>\n",
       "      <td>42.806944</td>\n",
       "      <td>15.800000</td>\n",
       "      <td>10.773600</td>\n",
       "      <td>11.024352</td>\n",
       "    </tr>\n",
       "  </tbody>\n",
       "</table>\n",
       "</div>"
      ],
      "text/plain": [
       "       timedelta_registr_level  timedelta_level_questions  \\\n",
       "count              8342.000000                5737.000000   \n",
       "mean                  7.171992                   5.285474   \n",
       "std                   4.564212                   2.732052   \n",
       "min                   0.137500                   0.316667   \n",
       "25%                   3.887917                   3.083333   \n",
       "50%                   6.057778                   4.950000   \n",
       "75%                   9.582917                   7.133333   \n",
       "max                  42.806944                  15.800000   \n",
       "\n",
       "       timedelta_questions_purchase  timedelta_registration_purchase  \n",
       "count                   1600.000000                      1600.000000  \n",
       "mean                       3.740896                         4.043016  \n",
       "std                        2.192595                         2.201338  \n",
       "min                        0.031134                         0.192338  \n",
       "25%                        1.891820                         2.185741  \n",
       "50%                        3.535712                         3.825619  \n",
       "75%                        5.404326                         5.700663  \n",
       "max                       10.773600                        11.024352  "
      ]
     },
     "execution_count": 16,
     "metadata": {},
     "output_type": "execute_result"
    }
   ],
   "source": [
    "pivot_df.describe()"
   ]
  },
  {
   "cell_type": "code",
   "execution_count": 17,
   "metadata": {},
   "outputs": [
    {
     "data": {
      "text/html": [
       "<div>\n",
       "<style scoped>\n",
       "    .dataframe tbody tr th:only-of-type {\n",
       "        vertical-align: middle;\n",
       "    }\n",
       "\n",
       "    .dataframe tbody tr th {\n",
       "        vertical-align: top;\n",
       "    }\n",
       "\n",
       "    .dataframe thead th {\n",
       "        text-align: right;\n",
       "    }\n",
       "</style>\n",
       "<table border=\"1\" class=\"dataframe\">\n",
       "  <thead>\n",
       "    <tr style=\"text-align: right;\">\n",
       "      <th></th>\n",
       "      <th>Tutorial</th>\n",
       "      <th>timedelta_registr_level</th>\n",
       "      <th>timedelta_level_questions</th>\n",
       "      <th>timedelta_questions_purchase</th>\n",
       "      <th>timedelta_registration_purchase</th>\n",
       "    </tr>\n",
       "  </thead>\n",
       "  <tbody>\n",
       "    <tr>\n",
       "      <th>0</th>\n",
       "      <td>not_start</td>\n",
       "      <td>5.26</td>\n",
       "      <td>5.40</td>\n",
       "      <td>4.20</td>\n",
       "      <td>4.38</td>\n",
       "    </tr>\n",
       "    <tr>\n",
       "      <th>1</th>\n",
       "      <td>only_started</td>\n",
       "      <td>8.22</td>\n",
       "      <td>5.09</td>\n",
       "      <td>3.89</td>\n",
       "      <td>4.23</td>\n",
       "    </tr>\n",
       "    <tr>\n",
       "      <th>2</th>\n",
       "      <td>tutorial_finish</td>\n",
       "      <td>7.09</td>\n",
       "      <td>5.30</td>\n",
       "      <td>3.72</td>\n",
       "      <td>4.02</td>\n",
       "    </tr>\n",
       "  </tbody>\n",
       "</table>\n",
       "</div>"
      ],
      "text/plain": [
       "          Tutorial  timedelta_registr_level  timedelta_level_questions  \\\n",
       "0        not_start                     5.26                       5.40   \n",
       "1     only_started                     8.22                       5.09   \n",
       "2  tutorial_finish                     7.09                       5.30   \n",
       "\n",
       "   timedelta_questions_purchase  timedelta_registration_purchase  \n",
       "0                          4.20                             4.38  \n",
       "1                          3.89                             4.23  \n",
       "2                          3.72                             4.02  "
      ]
     },
     "execution_count": 17,
     "metadata": {},
     "output_type": "execute_result"
    }
   ],
   "source": [
    "#Сравним среднее время прохождения между группами\n",
    "mean_event_df = round(pivot_df[['timedelta_registr_level','timedelta_level_questions','timedelta_questions_purchase','timedelta_registration_purchase','Tutorial']].groupby(['Tutorial'], as_index=False).mean(),2)\n",
    "mean_event_df"
   ]
  },
  {
   "cell_type": "code",
   "execution_count": 18,
   "metadata": {},
   "outputs": [
    {
     "data": {
      "text/plain": [
       "Text(0.5, 1.0, 'Время от регистрации до оплаты(в днях)')"
      ]
     },
     "execution_count": 18,
     "metadata": {},
     "output_type": "execute_result"
    },
    {
     "data": {
      "image/png": "[encoded data removed]",
      "text/plain": [
       "<Figure size 1800x360 with 4 Axes>"
      ]
     },
     "metadata": {
      "needs_background": "light"
     },
     "output_type": "display_data"
    }
   ],
   "source": [
    "#Построим график для наглядного сравнения\n",
    "fig,axes = plt.subplots(1,4,figsize=(25,5))\n",
    "axes[0].bar(x = mean_event_df['Tutorial'], height = mean_event_df['timedelta_registr_level'])\n",
    "axes[0].set_title('Время от регистрации до выбора уровня(в часах)')\n",
    "axes[1].bar(x = mean_event_df['Tutorial'], height = mean_event_df['timedelta_level_questions'])\n",
    "axes[1].set_title('Время от выбора уровня до выбора пакета(в минутах)')\n",
    "axes[2].bar(x = mean_event_df['Tutorial'], height = mean_event_df['timedelta_questions_purchase'])\n",
    "axes[2].set_title('Время от выбора пакета до оплаты(в днях)')\n",
    "axes[3].bar(x = mean_event_df['Tutorial'], height = mean_event_df['timedelta_registration_purchase'])\n",
    "axes[3].set_title('Время от регистрации до оплаты(в днях)')"
   ]
  },
  {
   "cell_type": "markdown",
   "metadata": {},
   "source": [
    "Вывод по задаче №1:\n",
    "\n",
    "Исходя из полученных данных можно сделать вывод, что самая большая разница во времени прохождения различных этапов для пользователей, которые прошли обучение от пользователей, не начинавших обучение происходит на этапе регистрации до выбора уровня сложности. Пользователи не начинавшие обучение тратят здесь времени меньше всего. Логично предположить, что это связано с пропуском этапа обучения.\n",
    "В то же время, эти же пользователи ,которые не проходили обучение, тратят больше всего времени на этапах выбора пакета вопросов и оплаты, но эта разница незначительна.\n",
    "\n",
    "В целом, на этапах от выбора уровня сложности до выбора пакета вопросов и от регистрации до оплаты невелика.\n",
    "\n",
    "Обучение незначительно сокращает время прохождения этапов."
   ]
  },
  {
   "cell_type": "markdown",
   "metadata": {},
   "source": [
    "    Задача №2\n",
    "Посмотреть, существует ли зависимость между вероятностью оплаты вопросов и количеством обучений, которые начинал или завершал пользователь. Нужно доказать, что успешное обучение само по себе влияет на оплату, и без разницы, каким этапом оно шло."
   ]
  },
  {
   "cell_type": "markdown",
   "metadata": {},
   "source": [
    "  Найдем долю пользователей, которые оплатили вопросы по отношению к разным группам:\n",
    "  * зарегистрировались\n",
    "  * начали обучение\n",
    "  * закончили обучение\n",
    "  * не проходили обучение\n",
    "  * выбрали пакет вопросов\n",
    "  * выбрали уровень сложности\n",
    "    "
   ]
  },
  {
   "cell_type": "code",
   "execution_count": 19,
   "metadata": {},
   "outputs": [
    {
     "name": "stdout",
     "output_type": "stream",
     "text": [
      "Процент пользователей, которые оплатили вопросы (от числа пользователей, которые зарегистрировались): 8.03%\n",
      "Процент пользователей, которые оплатили вопросы (от числа пользователей, которые начали обучение): 13.49%\n",
      "Процент пользователей, которые оплатили вопросы (от числа пользователей, которые закончили обучение): 15.61%\n",
      "Процент пользователей, которые оплатили вопросы (от числа пользователей, которые не начинали обучение): 19.83%\n",
      "Процент пользователей, которые оплатили вопросы (от числа пользователей, которые выбрали пакет вопросов): 27.89%\n",
      "Процент пользователей, которые оплатили вопросы (от числа пользователей, которые выбрали уровень сложности): 19.18%\n"
     ]
    }
   ],
   "source": [
    "paying_users =  total_events_df[total_events_df['event_type'] == 'purchase']['user_id'].nunique()\n",
    "pack_choice_users = total_events_df[total_events_df['event_type'] == 'pack_choice']['user_id'].nunique()\n",
    "level_choice_users = total_events_df[total_events_df['event_type'] == 'level_choice']['user_id'].nunique()\n",
    "percent_of_pay_registr = paying_users / len(registered_users)\n",
    "percent_of_pay_start = paying_users / len(tutorial_start_users)\n",
    "percent_of_pay_finish = paying_users / len(finished_tutorial_users)\n",
    "percent_of_pay_not_start = paying_users / len(not_started_tutorial)\n",
    "percent_of_pay_pack = paying_users/ pack_choice_users\n",
    "percent_of_pay_level = paying_users / level_choice_users\n",
    "\n",
    "print ('Процент пользователей, которые оплатили вопросы (от числа пользователей, которые зарегистрировались): {:.2%}'.format(percent_of_pay_registr))\n",
    "print ('Процент пользователей, которые оплатили вопросы (от числа пользователей, которые начали обучение): {:.2%}'.format(percent_of_pay_start))\n",
    "print ('Процент пользователей, которые оплатили вопросы (от числа пользователей, которые закончили обучение): {:.2%}'.format(percent_of_pay_finish))\n",
    "print ('Процент пользователей, которые оплатили вопросы (от числа пользователей, которые не начинали обучение): {:.2%}'.format(percent_of_pay_not_start))\n",
    "print ('Процент пользователей, которые оплатили вопросы (от числа пользователей, которые выбрали пакет вопросов): {:.2%}'.format(percent_of_pay_pack))\n",
    "print ('Процент пользователей, которые оплатили вопросы (от числа пользователей, которые выбрали уровень сложности): {:.2%}'.format(percent_of_pay_level))\n"
   ]
  },
  {
   "cell_type": "markdown",
   "metadata": {},
   "source": [
    "Исходя из полученных данных можно отметить, что среди пользователей, начавших/закончивших/не начинавших обучение больше всего оплат произвели те, кто не проходил обучение. "
   ]
  },
  {
   "cell_type": "markdown",
   "metadata": {},
   "source": [
    "Далее сгруппируем данные по типу события обучения (кто начал обучение, кто закончил обучение), по покупке.\n",
    "   "
   ]
  },
  {
   "cell_type": "code",
   "execution_count": 20,
   "metadata": {},
   "outputs": [
    {
     "name": "stdout",
     "output_type": "stream",
     "text": [
      "<class 'pandas.core.frame.DataFrame'>\n",
      "RangeIndex: 10 entries, 0 to 9\n",
      "Data columns (total 3 columns):\n",
      " #   Column          Non-Null Count  Dtype\n",
      "---  ------          --------------  -----\n",
      " 0   Tutorial_count  10 non-null     int64\n",
      " 1   user_id         10 non-null     int64\n",
      " 2   Purchase_count  10 non-null     int64\n",
      "dtypes: int64(3)\n",
      "memory usage: 368.0 bytes\n"
     ]
    },
    {
     "data": {
      "text/html": [
       "<div>\n",
       "<style scoped>\n",
       "    .dataframe tbody tr th:only-of-type {\n",
       "        vertical-align: middle;\n",
       "    }\n",
       "\n",
       "    .dataframe tbody tr th {\n",
       "        vertical-align: top;\n",
       "    }\n",
       "\n",
       "    .dataframe thead th {\n",
       "        text-align: right;\n",
       "    }\n",
       "</style>\n",
       "<table border=\"1\" class=\"dataframe\">\n",
       "  <thead>\n",
       "    <tr style=\"text-align: right;\">\n",
       "      <th></th>\n",
       "      <th>Tutorial_count</th>\n",
       "      <th>user_id</th>\n",
       "      <th>Purchase_count</th>\n",
       "    </tr>\n",
       "  </thead>\n",
       "  <tbody>\n",
       "    <tr>\n",
       "      <th>0</th>\n",
       "      <td>0</td>\n",
       "      <td>8068</td>\n",
       "      <td>22</td>\n",
       "    </tr>\n",
       "    <tr>\n",
       "      <th>1</th>\n",
       "      <td>1</td>\n",
       "      <td>9103</td>\n",
       "      <td>1207</td>\n",
       "    </tr>\n",
       "    <tr>\n",
       "      <th>2</th>\n",
       "      <td>2</td>\n",
       "      <td>1589</td>\n",
       "      <td>218</td>\n",
       "    </tr>\n",
       "    <tr>\n",
       "      <th>3</th>\n",
       "      <td>3</td>\n",
       "      <td>427</td>\n",
       "      <td>51</td>\n",
       "    </tr>\n",
       "    <tr>\n",
       "      <th>4</th>\n",
       "      <td>4</td>\n",
       "      <td>221</td>\n",
       "      <td>30</td>\n",
       "    </tr>\n",
       "    <tr>\n",
       "      <th>5</th>\n",
       "      <td>5</td>\n",
       "      <td>109</td>\n",
       "      <td>16</td>\n",
       "    </tr>\n",
       "    <tr>\n",
       "      <th>6</th>\n",
       "      <td>6</td>\n",
       "      <td>116</td>\n",
       "      <td>14</td>\n",
       "    </tr>\n",
       "    <tr>\n",
       "      <th>7</th>\n",
       "      <td>7</td>\n",
       "      <td>94</td>\n",
       "      <td>12</td>\n",
       "    </tr>\n",
       "    <tr>\n",
       "      <th>8</th>\n",
       "      <td>8</td>\n",
       "      <td>86</td>\n",
       "      <td>13</td>\n",
       "    </tr>\n",
       "    <tr>\n",
       "      <th>9</th>\n",
       "      <td>9</td>\n",
       "      <td>113</td>\n",
       "      <td>17</td>\n",
       "    </tr>\n",
       "  </tbody>\n",
       "</table>\n",
       "</div>"
      ],
      "text/plain": [
       "   Tutorial_count  user_id  Purchase_count\n",
       "0               0     8068              22\n",
       "1               1     9103            1207\n",
       "2               2     1589             218\n",
       "3               3      427              51\n",
       "4               4      221              30\n",
       "5               5      109              16\n",
       "6               6      116              14\n",
       "7               7       94              12\n",
       "8               8       86              13\n",
       "9               9      113              17"
      ]
     },
     "metadata": {},
     "output_type": "display_data"
    },
    {
     "name": "stdout",
     "output_type": "stream",
     "text": [
      "<class 'pandas.core.frame.DataFrame'>\n",
      "RangeIndex: 10 entries, 0 to 9\n",
      "Data columns (total 3 columns):\n",
      " #   Column                 Non-Null Count  Dtype\n",
      "---  ------                 --------------  -----\n",
      " 0   Tutorial_finish_count  10 non-null     int64\n",
      " 1   user_id                10 non-null     int64\n",
      " 2   Purchase_count         10 non-null     int64\n",
      "dtypes: int64(3)\n",
      "memory usage: 368.0 bytes\n"
     ]
    },
    {
     "data": {
      "text/html": [
       "<div>\n",
       "<style scoped>\n",
       "    .dataframe tbody tr th:only-of-type {\n",
       "        vertical-align: middle;\n",
       "    }\n",
       "\n",
       "    .dataframe tbody tr th {\n",
       "        vertical-align: top;\n",
       "    }\n",
       "\n",
       "    .dataframe thead th {\n",
       "        text-align: right;\n",
       "    }\n",
       "</style>\n",
       "<table border=\"1\" class=\"dataframe\">\n",
       "  <thead>\n",
       "    <tr style=\"text-align: right;\">\n",
       "      <th></th>\n",
       "      <th>Tutorial_finish_count</th>\n",
       "      <th>user_id</th>\n",
       "      <th>Purchase_count</th>\n",
       "    </tr>\n",
       "  </thead>\n",
       "  <tbody>\n",
       "    <tr>\n",
       "      <th>0</th>\n",
       "      <td>0</td>\n",
       "      <td>9676</td>\n",
       "      <td>153</td>\n",
       "    </tr>\n",
       "    <tr>\n",
       "      <th>1</th>\n",
       "      <td>1</td>\n",
       "      <td>8015</td>\n",
       "      <td>1143</td>\n",
       "    </tr>\n",
       "    <tr>\n",
       "      <th>2</th>\n",
       "      <td>2</td>\n",
       "      <td>1321</td>\n",
       "      <td>182</td>\n",
       "    </tr>\n",
       "    <tr>\n",
       "      <th>3</th>\n",
       "      <td>3</td>\n",
       "      <td>345</td>\n",
       "      <td>44</td>\n",
       "    </tr>\n",
       "    <tr>\n",
       "      <th>4</th>\n",
       "      <td>4</td>\n",
       "      <td>178</td>\n",
       "      <td>19</td>\n",
       "    </tr>\n",
       "    <tr>\n",
       "      <th>5</th>\n",
       "      <td>5</td>\n",
       "      <td>117</td>\n",
       "      <td>19</td>\n",
       "    </tr>\n",
       "    <tr>\n",
       "      <th>6</th>\n",
       "      <td>6</td>\n",
       "      <td>101</td>\n",
       "      <td>15</td>\n",
       "    </tr>\n",
       "    <tr>\n",
       "      <th>7</th>\n",
       "      <td>7</td>\n",
       "      <td>97</td>\n",
       "      <td>15</td>\n",
       "    </tr>\n",
       "    <tr>\n",
       "      <th>8</th>\n",
       "      <td>8</td>\n",
       "      <td>54</td>\n",
       "      <td>6</td>\n",
       "    </tr>\n",
       "    <tr>\n",
       "      <th>9</th>\n",
       "      <td>9</td>\n",
       "      <td>22</td>\n",
       "      <td>4</td>\n",
       "    </tr>\n",
       "  </tbody>\n",
       "</table>\n",
       "</div>"
      ],
      "text/plain": [
       "   Tutorial_finish_count  user_id  Purchase_count\n",
       "0                      0     9676             153\n",
       "1                      1     8015            1143\n",
       "2                      2     1321             182\n",
       "3                      3      345              44\n",
       "4                      4      178              19\n",
       "5                      5      117              19\n",
       "6                      6      101              15\n",
       "7                      7       97              15\n",
       "8                      8       54               6\n",
       "9                      9       22               4"
      ]
     },
     "metadata": {},
     "output_type": "display_data"
    }
   ],
   "source": [
    "#Сделаем таблицу с пользователями,которые начали обучение\n",
    "users_tutorial = total_events_df.groupby(['user_id'])['event_type'].apply(lambda x: (x=='tutorial_start').sum()).reset_index().\\\n",
    "    rename(columns={\"event_type\": \"Tutorial_count\"})\n",
    "\n",
    "#Сделаем таблицу с пользователями,которые закончили обучение\n",
    "users_tutorial_finished = total_events_df.groupby(['user_id'])['event_type'].apply(lambda x: (x=='tutorial_finish').sum()).reset_index().\\\n",
    "    rename(columns={\"event_type\": \"Tutorial_finish_count\"})\n",
    "\n",
    "#Сделаем таблицу с пользователями и кол-вом покупок\n",
    "users_purchase = total_events_df.groupby(['user_id'])['event_type'].\\\n",
    "    apply(lambda x: (x=='purchase').sum()).reset_index().\\\n",
    "    rename(columns={\"event_type\": \"Purchase_count\"})\n",
    "\n",
    "#Объединим датафреймы users_tutorial и users_purchase\n",
    "users_tutorial_purchase = users_tutorial.merge(users_purchase, how=\"left\", on=\"user_id\")\n",
    "#Объединим датафреймы users_tutorial_finished и users_purchase\n",
    "users_tutorial_finished_purchase=users_tutorial_finished.merge(users_purchase, how=\"left\", on=\"user_id\")\n",
    "\n",
    "#Сгруппируем данные\n",
    "#те, кто начали обучение\n",
    "grouped_tutorial_count = users_tutorial_purchase.groupby(['Tutorial_count']).\\\n",
    "    agg({'user_id': 'count', 'Purchase_count': 'sum'}).reset_index()\n",
    "#закончили обучение\n",
    "grouped_tutorial_finished_count = users_tutorial_finished_purchase.groupby(['Tutorial_finish_count']).\\\n",
    "    agg({'user_id': 'count', 'Purchase_count': 'sum'}).reset_index()\n",
    "\n",
    "grouped_tutorial_count.info()\n",
    "display(grouped_tutorial_count)\n",
    "\n",
    "grouped_tutorial_finished_count.info()\n",
    "display(grouped_tutorial_finished_count)\n"
   ]
  },
  {
   "cell_type": "code",
   "execution_count": 21,
   "metadata": {},
   "outputs": [
    {
     "name": "stdout",
     "output_type": "stream",
     "text": [
      "   Tutorial_count  user_id  Purchase_count  payment_possibility\n",
      "0               0     8068              22             0.272682\n",
      "1               1     9103            1207            13.259365\n",
      "2               2     1589             218            13.719320\n",
      "3               3      427              51            11.943794\n",
      "4               4      221              30            13.574661\n",
      "5               5      109              16            14.678899\n",
      "6               6      116              14            12.068966\n",
      "7               7       94              12            12.765957\n",
      "8               8       86              13            15.116279\n",
      "9               9      113              17            15.044248\n",
      "   Tutorial_finish_count  user_id  Purchase_count  payment_possibility\n",
      "0                      0     9676             153             1.581232\n",
      "1                      1     8015            1143            14.260761\n",
      "2                      2     1321             182            13.777441\n",
      "3                      3      345              44            12.753623\n",
      "4                      4      178              19            10.674157\n",
      "5                      5      117              19            16.239316\n",
      "6                      6      101              15            14.851485\n",
      "7                      7       97              15            15.463918\n",
      "8                      8       54               6            11.111111\n",
      "9                      9       22               4            18.181818\n"
     ]
    }
   ],
   "source": [
    "# Посчитаем вероятность оплаты\n",
    "#те, кто начали обучение\n",
    "grouped_tutorial_count['payment_possibility']= grouped_tutorial_count['Purchase_count']/grouped_tutorial_count['user_id']*100\n",
    "print(grouped_tutorial_count)\n",
    "#закончили обучение\n",
    "grouped_tutorial_finished_count['payment_possibility']= grouped_tutorial_finished_count['Purchase_count']/grouped_tutorial_finished_count['user_id']*100\n",
    "print(grouped_tutorial_finished_count)"
   ]
  },
  {
   "cell_type": "code",
   "execution_count": 22,
   "metadata": {},
   "outputs": [
    {
     "data": {
      "text/plain": [
       "Text(0.5, 0, 'Количество обучений')"
      ]
     },
     "execution_count": 22,
     "metadata": {},
     "output_type": "execute_result"
    },
    {
     "data": {
      "image/png": "[encoded data removed]",
      "text/plain": [
       "<Figure size 1080x360 with 2 Axes>"
      ]
     },
     "metadata": {
      "needs_background": "light"
     },
     "output_type": "display_data"
    }
   ],
   "source": [
    "# Выведем зависимость вероятности оплаты\n",
    "fig_2,axes_2 = plt.subplots(1,2,figsize=(15,5))\n",
    "axes_2[0].bar(x = grouped_tutorial_count['Tutorial_count'], height = grouped_tutorial_count['payment_possibility'])\n",
    "axes_2[0].set_title('Вероятность покупки (%) при начатом обучении')\n",
    "axes_2[0].set_ylabel('Вероятность %')\n",
    "axes_2[0].set_xlabel('Количество обучений')\n",
    "axes_2[1].bar(x = grouped_tutorial_finished_count['Tutorial_finish_count'], height = grouped_tutorial_finished_count['payment_possibility'])\n",
    "axes_2[1].set_title('Вероятность покупки (%) при законченном обучении')\n",
    "axes_2[1].set_ylabel('Вероятность %')\n",
    "axes_2[1].set_xlabel('Количество обучений')"
   ]
  },
  {
   "cell_type": "markdown",
   "metadata": {},
   "source": [
    "Выводы по задаче №2\n",
    "\n",
    "Исходя из получившихся данных можно сделать вывод, что не важно, какое количество обученний прошёл пользователь 1 или 9, как в нашем случае, само по себе обучение влияет на оплату."
   ]
  },
  {
   "cell_type": "markdown",
   "metadata": {},
   "source": [
    "     Задача №3\n",
    " Как часто пользователи начинают обучение после того, как они выбрали уровень сложности? Это позволит нам понять, насколько прозрачен процесс взаимодействия с игрой: если пользователи после выбора уровня сложности обращаются к обучению, значит, работа с приложением непонятна."
   ]
  },
  {
   "cell_type": "code",
   "execution_count": 23,
   "metadata": {},
   "outputs": [
    {
     "data": {
      "text/html": [
       "<div>\n",
       "<style scoped>\n",
       "    .dataframe tbody tr th:only-of-type {\n",
       "        vertical-align: middle;\n",
       "    }\n",
       "\n",
       "    .dataframe tbody tr th {\n",
       "        vertical-align: top;\n",
       "    }\n",
       "\n",
       "    .dataframe thead th {\n",
       "        text-align: right;\n",
       "    }\n",
       "</style>\n",
       "<table border=\"1\" class=\"dataframe\">\n",
       "  <thead>\n",
       "    <tr style=\"text-align: right;\">\n",
       "      <th></th>\n",
       "      <th>tutorial_start_time</th>\n",
       "      <th>user_id</th>\n",
       "      <th>level_choice_time</th>\n",
       "    </tr>\n",
       "  </thead>\n",
       "  <tbody>\n",
       "    <tr>\n",
       "      <th>0</th>\n",
       "      <td>2018-01-01 15:00:51</td>\n",
       "      <td>27835</td>\n",
       "      <td>2018-01-01 20:37:22</td>\n",
       "    </tr>\n",
       "    <tr>\n",
       "      <th>1</th>\n",
       "      <td>2018-01-01 19:11:36</td>\n",
       "      <td>27839</td>\n",
       "      <td>2018-01-01 22:37:50</td>\n",
       "    </tr>\n",
       "    <tr>\n",
       "      <th>2</th>\n",
       "      <td>2018-01-02 02:07:07</td>\n",
       "      <td>27840</td>\n",
       "      <td>2018-01-02 05:18:42</td>\n",
       "    </tr>\n",
       "    <tr>\n",
       "      <th>3</th>\n",
       "      <td>2018-01-02 03:03:44</td>\n",
       "      <td>27845</td>\n",
       "      <td>2018-01-02 06:19:18</td>\n",
       "    </tr>\n",
       "    <tr>\n",
       "      <th>4</th>\n",
       "      <td>2018-01-02 07:08:00</td>\n",
       "      <td>27845</td>\n",
       "      <td>2018-01-02 06:19:18</td>\n",
       "    </tr>\n",
       "    <tr>\n",
       "      <th>...</th>\n",
       "      <td>...</td>\n",
       "      <td>...</td>\n",
       "      <td>...</td>\n",
       "    </tr>\n",
       "    <tr>\n",
       "      <th>12681</th>\n",
       "      <td>2018-12-31 07:14:38</td>\n",
       "      <td>47732</td>\n",
       "      <td>2018-12-31 09:59:00</td>\n",
       "    </tr>\n",
       "    <tr>\n",
       "      <th>12682</th>\n",
       "      <td>2018-12-31 10:21:11</td>\n",
       "      <td>47747</td>\n",
       "      <td>2018-12-31 12:24:40</td>\n",
       "    </tr>\n",
       "    <tr>\n",
       "      <th>12683</th>\n",
       "      <td>2018-12-31 20:54:56</td>\n",
       "      <td>47753</td>\n",
       "      <td>2018-12-31 22:36:19</td>\n",
       "    </tr>\n",
       "    <tr>\n",
       "      <th>12684</th>\n",
       "      <td>2019-01-01 00:08:14</td>\n",
       "      <td>47755</td>\n",
       "      <td>2019-01-01 05:04:52</td>\n",
       "    </tr>\n",
       "    <tr>\n",
       "      <th>12685</th>\n",
       "      <td>2019-01-01 03:26:18</td>\n",
       "      <td>47756</td>\n",
       "      <td>2019-01-01 05:42:11</td>\n",
       "    </tr>\n",
       "  </tbody>\n",
       "</table>\n",
       "<p>12686 rows × 3 columns</p>\n",
       "</div>"
      ],
      "text/plain": [
       "      tutorial_start_time  user_id   level_choice_time\n",
       "0     2018-01-01 15:00:51    27835 2018-01-01 20:37:22\n",
       "1     2018-01-01 19:11:36    27839 2018-01-01 22:37:50\n",
       "2     2018-01-02 02:07:07    27840 2018-01-02 05:18:42\n",
       "3     2018-01-02 03:03:44    27845 2018-01-02 06:19:18\n",
       "4     2018-01-02 07:08:00    27845 2018-01-02 06:19:18\n",
       "...                   ...      ...                 ...\n",
       "12681 2018-12-31 07:14:38    47732 2018-12-31 09:59:00\n",
       "12682 2018-12-31 10:21:11    47747 2018-12-31 12:24:40\n",
       "12683 2018-12-31 20:54:56    47753 2018-12-31 22:36:19\n",
       "12684 2019-01-01 00:08:14    47755 2019-01-01 05:04:52\n",
       "12685 2019-01-01 03:26:18    47756 2019-01-01 05:42:11\n",
       "\n",
       "[12686 rows x 3 columns]"
      ]
     },
     "execution_count": 23,
     "metadata": {},
     "output_type": "execute_result"
    }
   ],
   "source": [
    "#Создадим датафрейм с пользователями и временем начала обучения\n",
    "user_tutorial_start_df = total_events_df[total_events_df['event_type']=='tutorial_start'][['event_time','user_id']].rename(columns={'event_time':'tutorial_start_time'})\n",
    "#Создадим датафрейм с пользователями и временем выбора уровня сложности\n",
    "user_level_choice_df = total_events_df[total_events_df['event_type']=='level_choice'][['event_time','user_id']].rename(columns={'event_time':'level_choice_time'})\n",
    "#Объединим датафреймы\n",
    "user_group_df= pd.merge(user_tutorial_start_df,user_level_choice_df,on= 'user_id')\n",
    "user_group_df"
   ]
  },
  {
   "cell_type": "code",
   "execution_count": 24,
   "metadata": {},
   "outputs": [
    {
     "data": {
      "text/html": [
       "<div>\n",
       "<style scoped>\n",
       "    .dataframe tbody tr th:only-of-type {\n",
       "        vertical-align: middle;\n",
       "    }\n",
       "\n",
       "    .dataframe tbody tr th {\n",
       "        vertical-align: top;\n",
       "    }\n",
       "\n",
       "    .dataframe thead th {\n",
       "        text-align: right;\n",
       "    }\n",
       "</style>\n",
       "<table border=\"1\" class=\"dataframe\">\n",
       "  <thead>\n",
       "    <tr style=\"text-align: right;\">\n",
       "      <th></th>\n",
       "      <th>tutorial_start_time</th>\n",
       "      <th>user_id</th>\n",
       "      <th>level_choice_time</th>\n",
       "    </tr>\n",
       "  </thead>\n",
       "  <tbody>\n",
       "    <tr>\n",
       "      <th>4</th>\n",
       "      <td>2018-01-02 07:08:00</td>\n",
       "      <td>27845</td>\n",
       "      <td>2018-01-02 06:19:18</td>\n",
       "    </tr>\n",
       "    <tr>\n",
       "      <th>6</th>\n",
       "      <td>2018-01-02 09:01:51</td>\n",
       "      <td>27842</td>\n",
       "      <td>2018-01-02 08:46:03</td>\n",
       "    </tr>\n",
       "    <tr>\n",
       "      <th>7</th>\n",
       "      <td>2018-01-02 18:08:01</td>\n",
       "      <td>27842</td>\n",
       "      <td>2018-01-02 08:46:03</td>\n",
       "    </tr>\n",
       "    <tr>\n",
       "      <th>12</th>\n",
       "      <td>2018-01-02 20:34:31</td>\n",
       "      <td>27852</td>\n",
       "      <td>2018-01-02 18:39:44</td>\n",
       "    </tr>\n",
       "    <tr>\n",
       "      <th>19</th>\n",
       "      <td>2018-01-03 11:17:41</td>\n",
       "      <td>27862</td>\n",
       "      <td>2018-01-03 04:19:32</td>\n",
       "    </tr>\n",
       "    <tr>\n",
       "      <th>...</th>\n",
       "      <td>...</td>\n",
       "      <td>...</td>\n",
       "      <td>...</td>\n",
       "    </tr>\n",
       "    <tr>\n",
       "      <th>12626</th>\n",
       "      <td>2018-12-28 17:28:42</td>\n",
       "      <td>47635</td>\n",
       "      <td>2018-12-28 11:43:38</td>\n",
       "    </tr>\n",
       "    <tr>\n",
       "      <th>12640</th>\n",
       "      <td>2018-12-28 21:44:13</td>\n",
       "      <td>47657</td>\n",
       "      <td>2018-12-28 21:25:49</td>\n",
       "    </tr>\n",
       "    <tr>\n",
       "      <th>12641</th>\n",
       "      <td>2018-12-28 21:53:06</td>\n",
       "      <td>47657</td>\n",
       "      <td>2018-12-28 21:25:49</td>\n",
       "    </tr>\n",
       "    <tr>\n",
       "      <th>12665</th>\n",
       "      <td>2018-12-29 22:50:57</td>\n",
       "      <td>47711</td>\n",
       "      <td>2018-12-29 21:23:23</td>\n",
       "    </tr>\n",
       "    <tr>\n",
       "      <th>12673</th>\n",
       "      <td>2018-12-31 02:47:53</td>\n",
       "      <td>47724</td>\n",
       "      <td>2018-12-30 13:21:12</td>\n",
       "    </tr>\n",
       "  </tbody>\n",
       "</table>\n",
       "<p>2792 rows × 3 columns</p>\n",
       "</div>"
      ],
      "text/plain": [
       "      tutorial_start_time  user_id   level_choice_time\n",
       "4     2018-01-02 07:08:00    27845 2018-01-02 06:19:18\n",
       "6     2018-01-02 09:01:51    27842 2018-01-02 08:46:03\n",
       "7     2018-01-02 18:08:01    27842 2018-01-02 08:46:03\n",
       "12    2018-01-02 20:34:31    27852 2018-01-02 18:39:44\n",
       "19    2018-01-03 11:17:41    27862 2018-01-03 04:19:32\n",
       "...                   ...      ...                 ...\n",
       "12626 2018-12-28 17:28:42    47635 2018-12-28 11:43:38\n",
       "12640 2018-12-28 21:44:13    47657 2018-12-28 21:25:49\n",
       "12641 2018-12-28 21:53:06    47657 2018-12-28 21:25:49\n",
       "12665 2018-12-29 22:50:57    47711 2018-12-29 21:23:23\n",
       "12673 2018-12-31 02:47:53    47724 2018-12-30 13:21:12\n",
       "\n",
       "[2792 rows x 3 columns]"
      ]
     },
     "execution_count": 24,
     "metadata": {},
     "output_type": "execute_result"
    }
   ],
   "source": [
    "#Оставим только те значения времени, которые подразумевают переход от выбора уровня сложности к началу обучения\n",
    "condit=user_group_df.tutorial_start_time > user_group_df.level_choice_time\n",
    "user_group_df= user_group_df[condit]\n",
    "user_group_df"
   ]
  },
  {
   "cell_type": "code",
   "execution_count": 25,
   "metadata": {},
   "outputs": [
    {
     "data": {
      "text/html": [
       "<div>\n",
       "<style scoped>\n",
       "    .dataframe tbody tr th:only-of-type {\n",
       "        vertical-align: middle;\n",
       "    }\n",
       "\n",
       "    .dataframe tbody tr th {\n",
       "        vertical-align: top;\n",
       "    }\n",
       "\n",
       "    .dataframe thead th {\n",
       "        text-align: right;\n",
       "    }\n",
       "</style>\n",
       "<table border=\"1\" class=\"dataframe\">\n",
       "  <thead>\n",
       "    <tr style=\"text-align: right;\">\n",
       "      <th></th>\n",
       "      <th>return_to_training</th>\n",
       "      <th>users</th>\n",
       "    </tr>\n",
       "  </thead>\n",
       "  <tbody>\n",
       "    <tr>\n",
       "      <th>0</th>\n",
       "      <td>1</td>\n",
       "      <td>819</td>\n",
       "    </tr>\n",
       "    <tr>\n",
       "      <th>1</th>\n",
       "      <td>2</td>\n",
       "      <td>229</td>\n",
       "    </tr>\n",
       "    <tr>\n",
       "      <th>2</th>\n",
       "      <td>3</td>\n",
       "      <td>116</td>\n",
       "    </tr>\n",
       "    <tr>\n",
       "      <th>3</th>\n",
       "      <td>4</td>\n",
       "      <td>77</td>\n",
       "    </tr>\n",
       "    <tr>\n",
       "      <th>4</th>\n",
       "      <td>5</td>\n",
       "      <td>57</td>\n",
       "    </tr>\n",
       "    <tr>\n",
       "      <th>5</th>\n",
       "      <td>6</td>\n",
       "      <td>51</td>\n",
       "    </tr>\n",
       "    <tr>\n",
       "      <th>6</th>\n",
       "      <td>7</td>\n",
       "      <td>28</td>\n",
       "    </tr>\n",
       "    <tr>\n",
       "      <th>7</th>\n",
       "      <td>8</td>\n",
       "      <td>9</td>\n",
       "    </tr>\n",
       "  </tbody>\n",
       "</table>\n",
       "</div>"
      ],
      "text/plain": [
       "   return_to_training  users\n",
       "0                   1    819\n",
       "1                   2    229\n",
       "2                   3    116\n",
       "3                   4     77\n",
       "4                   5     57\n",
       "5                   6     51\n",
       "6                   7     28\n",
       "7                   8      9"
      ]
     },
     "execution_count": 25,
     "metadata": {},
     "output_type": "execute_result"
    }
   ],
   "source": [
    "#Сгруппируем данные в датафрейм\n",
    "return_to_training_df=user_group_df[['user_id', 'tutorial_start_time']].groupby(['user_id']).count()\n",
    "return_to_training_df['user_id']=return_to_training_df.index\n",
    "return_to_training_df=return_to_training_df.groupby(['tutorial_start_time']).count().reset_index().rename(columns={'tutorial_start_time':'return_to_training'})\n",
    "return_to_training_df = return_to_training_df.rename(columns={'user_id':'users'})\n",
    "return_to_training_df"
   ]
  },
  {
   "cell_type": "code",
   "execution_count": 26,
   "metadata": {},
   "outputs": [
    {
     "name": "stdout",
     "output_type": "stream",
     "text": [
      "Количество пользователей, выбравших уровень сложности: 8342\n",
      "Количество пользователей, выбравших уровень сложности, повторно прошедших обучение: 1386\n",
      "Количество пользователей, выбравших уровень сложности, которые не начинали обучение: 6956\n",
      "Процент пользователей, которые повторно не начинали обучение от пользователей, выбравших уровень: 83.39%\n",
      "Процент пользователей, которые повторно начали обучение от пользователей, выбравших уровень: 16.61%\n"
     ]
    }
   ],
   "source": [
    "level_choice_users_but_not_start= level_choice_users-(return_to_training_df.users.sum())\n",
    "print('Количество пользователей, выбравших уровень сложности: {}'.format(level_choice_users))  \n",
    "print('Количество пользователей, выбравших уровень сложности, повторно прошедших обучение: {}'.format(return_to_training_df.users.sum()))\n",
    "print('Количество пользователей, выбравших уровень сложности, которые не начинали обучение: {}'.format(level_choice_users_but_not_start))\n",
    "perc1=level_choice_users_but_not_start/level_choice_users\n",
    "perc2=return_to_training_df.users.sum()/level_choice_users\n",
    "print('Процент пользователей, которые повторно не начинали обучение от пользователей, выбравших уровень: {:.2%}'.format(perc1))\n",
    "print('Процент пользователей, которые повторно начали обучение от пользователей, выбравших уровень: {:.2%}'.format(perc2))"
   ]
  },
  {
   "cell_type": "code",
   "execution_count": 27,
   "metadata": {
    "scrolled": false
   },
   "outputs": [
    {
     "data": {
      "text/html": [
       "<div>\n",
       "<style scoped>\n",
       "    .dataframe tbody tr th:only-of-type {\n",
       "        vertical-align: middle;\n",
       "    }\n",
       "\n",
       "    .dataframe tbody tr th {\n",
       "        vertical-align: top;\n",
       "    }\n",
       "\n",
       "    .dataframe thead th {\n",
       "        text-align: right;\n",
       "    }\n",
       "</style>\n",
       "<table border=\"1\" class=\"dataframe\">\n",
       "  <thead>\n",
       "    <tr style=\"text-align: right;\">\n",
       "      <th></th>\n",
       "      <th>return_to_training</th>\n",
       "      <th>users</th>\n",
       "      <th>%</th>\n",
       "    </tr>\n",
       "  </thead>\n",
       "  <tbody>\n",
       "    <tr>\n",
       "      <th>0</th>\n",
       "      <td>1</td>\n",
       "      <td>819</td>\n",
       "      <td>9.817789</td>\n",
       "    </tr>\n",
       "    <tr>\n",
       "      <th>1</th>\n",
       "      <td>2</td>\n",
       "      <td>229</td>\n",
       "      <td>2.745145</td>\n",
       "    </tr>\n",
       "    <tr>\n",
       "      <th>2</th>\n",
       "      <td>3</td>\n",
       "      <td>116</td>\n",
       "      <td>1.390554</td>\n",
       "    </tr>\n",
       "    <tr>\n",
       "      <th>3</th>\n",
       "      <td>4</td>\n",
       "      <td>77</td>\n",
       "      <td>0.923040</td>\n",
       "    </tr>\n",
       "    <tr>\n",
       "      <th>4</th>\n",
       "      <td>5</td>\n",
       "      <td>57</td>\n",
       "      <td>0.683289</td>\n",
       "    </tr>\n",
       "    <tr>\n",
       "      <th>5</th>\n",
       "      <td>6</td>\n",
       "      <td>51</td>\n",
       "      <td>0.611364</td>\n",
       "    </tr>\n",
       "    <tr>\n",
       "      <th>6</th>\n",
       "      <td>7</td>\n",
       "      <td>28</td>\n",
       "      <td>0.335651</td>\n",
       "    </tr>\n",
       "    <tr>\n",
       "      <th>7</th>\n",
       "      <td>8</td>\n",
       "      <td>9</td>\n",
       "      <td>0.107888</td>\n",
       "    </tr>\n",
       "  </tbody>\n",
       "</table>\n",
       "</div>"
      ],
      "text/plain": [
       "   return_to_training  users         %\n",
       "0                   1    819  9.817789\n",
       "1                   2    229  2.745145\n",
       "2                   3    116  1.390554\n",
       "3                   4     77  0.923040\n",
       "4                   5     57  0.683289\n",
       "5                   6     51  0.611364\n",
       "6                   7     28  0.335651\n",
       "7                   8      9  0.107888"
      ]
     },
     "metadata": {},
     "output_type": "display_data"
    }
   ],
   "source": [
    "#Найдём соотношение пользователей, которые выбрали уровень сложности с количеством возвращений\n",
    "return_to_training_df['%']=return_to_training_df['users']/level_choice_users*100\n",
    "display(return_to_training_df)"
   ]
  },
  {
   "cell_type": "code",
   "execution_count": 28,
   "metadata": {
    "scrolled": true
   },
   "outputs": [
    {
     "data": {
      "text/plain": [
       "Text(0.5, 0, 'Количество обучений')"
      ]
     },
     "execution_count": 28,
     "metadata": {},
     "output_type": "execute_result"
    },
    {
     "data": {
      "image/png": "[encoded data removed]",
      "text/plain": [
       "<Figure size 432x288 with 1 Axes>"
      ]
     },
     "metadata": {
      "needs_background": "light"
     },
     "output_type": "display_data"
    }
   ],
   "source": [
    "# Выведем визуализацию\n",
    "fig = plt.figure()\n",
    "axes = fig.add_axes([0, 1, 1, 1])\n",
    "axes.bar(x = return_to_training_df['return_to_training'], height = return_to_training_df['return_to_training'], \n",
    "         width = 0.4, align = 'edge', label = 'Количество обучений')\n",
    "axes.bar(x = return_to_training_df['return_to_training'], height = return_to_training_df['%'], \n",
    "         width = -0.4, align = 'edge', label = '% от всех пользователей, выбравших уровень')\n",
    "axes.legend(loc = 1)\n",
    "axes.set_title('Процентное соотношение пользователей, начавших обучение после выбора уровня сложности')\n",
    "axes.set_ylabel('%')\n",
    "axes.set_xlabel('Количество обучений')"
   ]
  },
  {
   "cell_type": "code",
   "execution_count": 29,
   "metadata": {
    "scrolled": true
   },
   "outputs": [
    {
     "data": {
      "text/plain": [
       "<AxesSubplot:xlabel='return_to_training', ylabel='%'>"
      ]
     },
     "execution_count": 29,
     "metadata": {},
     "output_type": "execute_result"
    },
    {
     "data": {
      "image/png": "[encoded data removed]",
      "text/plain": [
       "<Figure size 432x288 with 1 Axes>"
      ]
     },
     "metadata": {
      "needs_background": "light"
     },
     "output_type": "display_data"
    }
   ],
   "source": [
    "#Посмотрим как будут выглядеть данные на другой диаграмме\n",
    "sns.barplot(x = 'return_to_training', y = '%', data = return_to_training_df[['return_to_training','%']])\n"
   ]
  },
  {
   "cell_type": "markdown",
   "metadata": {},
   "source": [
    "Выводы по задаче №3\n",
    "\n",
    "Чуть меньше 10% пользователей возвращаются один раз к повтору обучения после выбора уровня сложности. Далее судя по диаграмме и данным эти цифры сводятся к минимуму.\n",
    "\n",
    "Учитывая, что 83% пользователей не возвращаются к повтору обучения вовсе. Можно сделать вывод, что процесс взаимодействия с игрой прозрачен, работа с приложением понятна."
   ]
  },
  {
   "cell_type": "markdown",
   "metadata": {},
   "source": []
  }
 ],
 "metadata": {
  "kernelspec": {
   "display_name": "Python 3",
   "language": "python",
   "name": "python3"
  },
  "language_info": {
   "codemirror_mode": {
    "name": "ipython",
    "version": 3
   },
   "file_extension": ".py",
   "mimetype": "text/x-python",
   "name": "python",
   "nbconvert_exporter": "python",
   "pygments_lexer": "ipython3",
   "version": "3.8.5"
  }
 },
 "nbformat": 4,
 "nbformat_minor": 4
}
